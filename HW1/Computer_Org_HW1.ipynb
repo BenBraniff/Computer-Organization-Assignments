{
 "cells": [
  {
   "cell_type": "markdown",
   "id": "4adc3bed-4e6e-4ba3-b27d-218c60339468",
   "metadata": {},
   "source": [
    "\n",
    "1. Height: the number of lines used to draw the rectangle\n",
    "2. Width: the number of characters in each line.\n",
    "3. Border: the character used to draw the rectangle’s periphery\n",
    "4. Fill: the character used to draw the rectangle’s inner points\n",
    "For example, a rectangle of Height=5, Width=4, Border='*' and Fill ='@' would print as follows:\n",
    "****\n",
    "*@@*\n",
    "*@@*\n",
    "*@@*\n",
    "****"
   ]
  },
  {
   "cell_type": "code",
   "execution_count": 38,
   "id": "d34685af-242d-40c5-bea4-094ad5530e4f",
   "metadata": {},
   "outputs": [
    {
     "name": "stdout",
     "output_type": "stream",
     "text": [
      "Height? 5\n",
      "Width? 4\n",
      "Border Character? *\n",
      "Fill Character? @\n"
     ]
    },
    {
     "name": "stdout",
     "output_type": "stream",
     "text": [
      "****\n",
      "*@@*\n",
      "*@@*\n",
      "*@@*\n",
      "****"
     ]
    }
   ],
   "source": [
    "\n",
    "def draw_rectangle(H, W, B, F):\n",
    "    # H and W are assumed to be positive integers: H > 0, W > 0\n",
    "    \n",
    "    # draws the top border\n",
    "    for _ in range(W):\n",
    "        print(B, end=\"\")\n",
    "    print()\n",
    "\n",
    "    # draws the inside\n",
    "    for i in range(H-2):\n",
    "        print(B, end=\"\")\n",
    "        for _ in range(W-2):\n",
    "            print(F, end=\"\")\n",
    "        if W != 1:\n",
    "            print(B, end=\"\")\n",
    "        print()    \n",
    "\n",
    "    # draws the bottom border if H > 1\n",
    "    if H != 1:\n",
    "        for _ in range(W):\n",
    "            print(B, end=\"\")\n",
    "\n",
    "H = int(input(\"Height?\"))\n",
    "W = int(input(\"Width?\"))\n",
    "B = input(\"Border Character?\")\n",
    "F = input(\"Fill Character?\")\n",
    "\n",
    "draw_rectangle(H, W, B, F)"
   ]
  },
  {
   "cell_type": "code",
   "execution_count": null,
   "id": "2d29cac9-290f-4383-9e5e-d1ec367f41db",
   "metadata": {},
   "outputs": [],
   "source": [
    "def makeRect(L,W,B,F):\n",
    "    # Make Top\n",
    "    # Print border\n",
    "    for i in range(L):\n",
    "        for j in range(W):\n",
    "            if i == 0 or i == L-1:\n",
    "                print(B, end='')\n",
    "            elif j == 0 or j == W-1:\n",
    "                print(B,end='')\n",
    "            else:\n",
    "                print(F,end='')\n",
    "        print()\n",
    "\n",
    "\n",
    "    i = 0\n",
    "    while(i < L):\n",
    "        j = 0\n",
    "        while(j < W):\n",
    "            \n",
    "            if i == 0:\n",
    "                print(B, end='')\n",
    "            t = L-1\n",
    "            if i == t:\n",
    "                print(B, end='')\n",
    "            \n",
    "            if j == 0:\n",
    "                print(B,end='')\n",
    "            t2 = W-1\n",
    "            if j == t2:\n",
    "                print(B,end='')\n",
    "            \n",
    "            else:\n",
    "                print(F,end='')\n",
    "            \n",
    "            j += 1\n",
    "        \n",
    "        print('\\n', end='')\n",
    "        i += 1\n"
   ]
  },
  {
   "cell_type": "code",
   "execution_count": null,
   "id": "c6767f2e",
   "metadata": {},
   "outputs": [],
   "source": []
  }
 ],
 "metadata": {
  "kernelspec": {
   "display_name": "Python 3 (ipykernel)",
   "language": "python",
   "name": "python3"
  },
  "language_info": {
   "codemirror_mode": {
    "name": "ipython",
    "version": 3
   },
   "file_extension": ".py",
   "mimetype": "text/x-python",
   "name": "python",
   "nbconvert_exporter": "python",
   "pygments_lexer": "ipython3",
   "version": "3.12.0"
  }
 },
 "nbformat": 4,
 "nbformat_minor": 5
}
